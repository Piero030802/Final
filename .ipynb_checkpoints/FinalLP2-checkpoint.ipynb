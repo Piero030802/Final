{
 "cells": [
  {
   "cell_type": "markdown",
   "id": "8d31f597-449b-4d65-860e-50066e4fba4f",
   "metadata": {},
   "source": [
    "# Comparación de Valoraciones de Libros y Películas\n",
    "\n",
    "## Descripción del Proyecto\n",
    "\n",
    "Este proyecto busca comparar las valoraciones promedio de libros y películas basadas en una búsqueda temática, utilizando las APIs de Google Books y TMDb. A través de un análisis comparativo, determinaremos si hay una diferencia significativa entre las valoraciones promedio de los libros y las películas.\n",
    "\n",
    "## Objetivos\n",
    "\n",
    "1. Utilizar Google Books API para obtener datos de libros, incluyendo títulos, autores, fechas de publicación y valoraciones.\n",
    "2. Utilizar la API de TMDb para obtener datos de películas, incluyendo títulos, fechas de lanzamiento y valoraciones.\n",
    "3. Implementar técnicas de análisis de datos para comparar las valoraciones promedio entre libros y películas.\n",
    "4. Visualizar los resultados del análisis mediante gráficos.\n",
    "5. Realizar pruebas estadísticas para determinar si hay diferencias significativas en las valoraciones.\n",
    "\n",
    "## Estructura del Proyecto\n",
    "\n",
    "- `scripts/`: Contiene los scripts para la recolección de datos.\n",
    "- `data/`: Contiene los archivos CSV con los datos recolectados.\n",
    "- `notebooks/`: Contiene los notebooks para el análisis y visualización de datos."
   ]
  },
  {
   "cell_type": "code",
   "execution_count": null,
   "id": "3c2c13d6-f852-4d51-9cb1-0b57c08f6e39",
   "metadata": {},
   "outputs": [],
   "source": []
  }
 ],
 "metadata": {
  "kernelspec": {
   "display_name": "Python 3 (ipykernel)",
   "language": "python",
   "name": "python3"
  },
  "language_info": {
   "codemirror_mode": {
    "name": "ipython",
    "version": 3
   },
   "file_extension": ".py",
   "mimetype": "text/x-python",
   "name": "python",
   "nbconvert_exporter": "python",
   "pygments_lexer": "ipython3",
   "version": "3.11.7"
  }
 },
 "nbformat": 4,
 "nbformat_minor": 5
}
